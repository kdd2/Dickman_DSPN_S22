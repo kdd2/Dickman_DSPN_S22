{
 "cells": [
  {
   "cell_type": "markdown",
   "metadata": {
    "id": "szkkhiCZDF52"
   },
   "source": [
    "# Homework 5:  Linear models, continued\n",
    "This homework assignment is designed to give you a deeper understanding of linear models. First, we'll dive into the math behind the closed-form solution of maximum likelihood estimation. **In the first section below, write your answers using Latex equation formatting.**\n",
    "\n",
    "*Note: Check out [this page](https://gtribello.github.io/mathNET/assets/notebook-writing.html) and [this page](https://towardsdatascience.com/write-markdown-latex-in-the-jupyter-notebook-10985edb91fd) for resources on how to do Latex formatting. You can also double click on the question cells in this notebook to see how math is formatted in the questions.*\n"
   ]
  },
  {
   "cell_type": "markdown",
   "metadata": {
    "id": "QJscNReoylRt"
   },
   "source": [
    "---\n",
    "## 1. Deriving the Maximum Likelihood Estimate for Simple Linear Regression (6 points)"
   ]
  },
  {
   "cell_type": "markdown",
   "metadata": {
    "id": "nH82gwuymPi0"
   },
   "source": [
    "Using the mean squared error (MSE) as your objective function (the thing you're trying to minimize when you fit your model) allows for a closed form solution to finding the maximum likelihood estimate (MLE) of your model parameters in linear regression. Let’s consider the simple, single predictor variable model, i.e. simple linear regression :  $Y= \\beta_0 + \\beta_1 X $. \n",
    "\n",
    "a) Use algebra to show how you can expand out $MSE(\\beta_0, \\beta_1)$ to get from i to ii below.\n",
    "\n",
    "> _i)_ $E[ (Y-(\\beta_0 + \\beta_1 X))^2]$\n",
    "\n",
    "> _ii)_ $E[Y^2] -2 \\beta_0E[Y]-2 \\beta_1 Cov[X,Y]-2 \\beta_1 E[X]E[Y]+ \\beta_0^2 +2 \\beta_0 \\beta_1 E[X]+\\beta_1^2 Var[X]+ \\beta_1^2 (E[X])^2$\n",
    "\n",
    "\n",
    "\n",
    "\n"
   ]
  },
  {
   "cell_type": "markdown",
   "metadata": {
    "id": "dn2hveNho-Of"
   },
   "source": [
    "**Answer:**\n",
    "\n",
    "> 1. $E[ (Y-(\\beta_0 + \\beta_1 X))^2]$\n",
    "\n",
    "> 2. $E[ (Y^2 - 2Y(\\beta_0 + \\beta_1 X) +(\\beta_0 + \\beta_1 X)^2]$\n",
    "\n",
    "> 3. $E[ (Y^2 - 2Y(\\beta_0 + \\beta_1 X) + \\beta_0^2 + 2(\\beta_0)(\\beta_1 X) + (\\beta_1 X)^2]$\n",
    "\n",
    "> 4. $E[ (Y^2 - 2Y\\beta_0 - 2Y\\beta_1 X + \\beta_0^2 + 2(\\beta_0)(\\beta_1 X) + (\\beta_1 X)^2]$\n",
    "\n",
    "> 5. $E[Y^2] - E[2Y\\beta_0] - E[2Y\\beta_1 X] + E[\\beta_0^2] + E[2(\\beta_0)(\\beta_1 X)] + E[(\\beta_1 X)^2]$\n",
    "\n",
    "> 6. $E[Y^2] - 2\\beta_0E[Y] - 2\\beta_1E[XY] + \\beta_0^2 + 2\\beta_0\\beta_1 E[X] + \\beta_1^2 E[X]^2$\n",
    "\n",
    "> 7. $E[Y^2] - 2\\beta_0E[Y] - 2\\beta_1 Cov[X,Y] - 2\\beta_1 E[X]E[Y] + \\beta_0^2 + 2\\beta_0\\beta_1 E[X] + \\beta_1^2 E[X^2]$\n",
    "\n",
    "> 8. $E[Y^2] - 2\\beta_0E[Y] - 2\\beta_1 Cov[X,Y] - 2\\beta_1 E[X]E[Y] + \\beta_0^2 + 2\\beta_0\\beta_1 E[X] + \\beta_1^2 E[X]^2 + \\beta_1^2 Var[X] $\n"
   ]
  },
  {
   "cell_type": "markdown",
   "metadata": {
    "id": "GCr46r9xwRXP"
   },
   "source": [
    "b) Prove that the MLE of $\\beta_0$ is $E[Y]- \\beta_1 E[X]$ by taking the derivative of _ii_ above, with respect to $\\beta_0$, setting the derivative to zero, and solving for $\\beta_0$."
   ]
  },
  {
   "cell_type": "markdown",
   "metadata": {
    "id": "Ul-PZyLbwTCQ"
   },
   "source": [
    "**Answer:**\n",
    "\n",
    "> Taking the derivative of the above equation with respect to $\\beta_0$:\n",
    "\n",
    "> 1. $f'(\\beta_0) [( E[Y^2] -2 \\beta_0E[Y]-2 \\beta_1 Cov[X,Y]-2 \\beta_1 E[X]E[Y]+ \\beta_0^2 +2 \\beta_0 \\beta_1 E[X]+\\beta_1^2 Var[X]+ \\beta_1^2 (E[X])^2 )]$\n",
    "\n",
    "> 2. $ 0 - 2E[Y] - 0 - 0 + 2\\beta_0 + 2 \\beta_1 E[X] + 0 + 0 $\n",
    "\n",
    "> 3. $ - 2E[Y] + 2\\beta_0 + 2 \\beta_1 E[X] $\n",
    "\n",
    "> Setting derivative to zero and solving for $\\beta_0$:\n",
    "\n",
    "> 4. $ 0 = - 2E[Y] + 2\\beta_0 + 2 \\beta_1 E[X] $\n",
    "\n",
    "> 5. $ 0 = - 2 ( E[Y] - \\beta_0 - \\beta_1 E[X]) $\n",
    "\n",
    "> 6. $ 0/-2 = - 2 ( E[Y] - \\beta_0 - \\beta_1 E[X]) / -2 $\n",
    "\n",
    "> 7. $ 0 =  E[Y] - \\beta_0 - \\beta_1 E[X] $\n",
    "\n",
    "> 8. $ 0 + \\beta_0 =  E[Y] - \\beta_0 - \\beta_1 E[X] + \\beta_0 $\n",
    "\n",
    "> 9. $ \\beta_0 =  E[Y] - \\beta_1 E[X] $"
   ]
  },
  {
   "cell_type": "markdown",
   "metadata": {
    "id": "-uv4Z7afw4gB"
   },
   "source": [
    "c) Prove that the MLE for $\\beta_1$ is $Cov[X,Y]/Var[X]$ by taking the derivative of equation _ii_ above, with respect to $\\beta_1$, setting the derivative to zero, and solving for $\\beta_1$. *Hint: after you've simplified / expanded a bit, plug in the solution for $\\beta_0$ from part b.*"
   ]
  },
  {
   "cell_type": "markdown",
   "metadata": {
    "id": "sWTFZ6ZSw6sh"
   },
   "source": [
    "**Answer:**\n",
    "\n",
    "> Taking the derivative of the above equation with respect to $\\beta_1$:\n",
    "\n",
    "> 1. $f'(\\beta_1) [( E[Y^2] -2 \\beta_0E[Y]-2 \\beta_1 Cov[X,Y]-2 \\beta_1 E[X]E[Y]+ \\beta_0^2 +2 \\beta_0 \\beta_1 E[X]+\\beta_1^2 Var[X]+ \\beta_1^2 (E[X])^2 )]$\n",
    "\n",
    "> 2. $ 0 - 0 - 2Cov[X,Y] - 2E[X]E[Y] + 0 +2\\beta_0E[X] + 2\\beta_1Var[X]+ 2\\beta_1 (E[X])^2 $\n",
    "\n",
    "> 3. $ - 2Cov[X,Y] - 2E[X]E[Y] + 2\\beta_0E[X] + 2\\beta_1Var[X]+ 2\\beta_1 (E[X])^2 $\n",
    "\n",
    "> Setting derivative to zero and solving for $\\beta_1$:\n",
    "\n",
    "> 4. $ 0 = - 2Cov[X,Y] - 2E[X]E[Y] + 2\\beta_0E[X] + 2\\beta_1Var[X]+ 2\\beta_1 (E[X])^2 $\n",
    "\n",
    "> 5. $ 0 = - 2 ( Cov[X,Y] + E[X]E[Y] - \\beta_0E[X] - \\beta_1Var[X] - \\beta_1 (E[X])^2 ) $\n",
    "\n",
    "> 6. $ 0/-2 = - 2 ( Cov[X,Y] + E[X]E[Y] - \\beta_0E[X] - \\beta_1Var[X] - \\beta_1 (E[X])^2 )/ -2 $\n",
    "\n",
    "> 7. $ 0 = Cov[X,Y] + E[X]E[Y] - \\beta_0E[X] - \\beta_1Var[X] - \\beta_1 (E[X])^2 $\n",
    "\n",
    "> 8. $ 0 = Cov[X,Y] + E[X]E[Y] - E[X]([E[Y] - \\beta_1 E[X]) - \\beta_1Var[X] - \\beta_1 (E[X])^2 $\n",
    "\n",
    "> 9. $ 0 = Cov[X,Y] + E[X]E[Y] - E[X][E[Y] + \\beta_1 (E[X])^2 - \\beta_1Var[X] - \\beta_1 (E[X])^2 $\n",
    "\n",
    "> 10. $ 0 = Cov[X,Y] + \\beta_1 (E[X])^2 - \\beta_1Var[X] - \\beta_1 (E[X])^2 $\n",
    "\n",
    "> 11. $ 0 = Cov[X,Y] - \\beta_1Var[X] $\n",
    "\n",
    "> 12. $ 0 + \\beta_1Var[X]= Cov[X,Y] - \\beta_1Var[X] + \\beta_1Var[X] $\n",
    "\n",
    "> 13. $ \\beta_1Var[X]= Cov[X,Y] $\n",
    "\n",
    "> 14. $ \\beta_1Var[X] / Var[X] = Cov[X,Y]/ Var[X] $\n",
    "\n",
    "> 15. $ \\beta_1 = Cov[X,Y]/ Var[X] $"
   ]
  },
  {
   "cell_type": "markdown",
   "metadata": {
    "id": "66X264ZpDF58"
   },
   "source": [
    "---\n",
    "## 2. Connecting to data (4 points)\n",
    "\n",
    "Now let's connect this to some real data. Once again we'll be using the  **unrestricted_trimmed_1_7_2020_10_50_44.csv** file from the *Homework/hcp_data* folder in the class GitHub repository. \n",
    "\n",
    "​\n",
    "This data is a portion of the [Human Connectome Project database](http://www.humanconnectomeproject.org/). It provides measures of cognitive tasks and brain morphology measurements from 1206 participants. The full description of each variable is provided in the **HCP_S1200_DataDictionary_April_20_2018.csv** file in the *Homework/hcp_data* folder in the class GitHub repository. \n",
    "\n",
    "a) Use the `setwd` and `read.csv` functions to load data from the **unrestricted_trimmed_1_7_2020_10_50_44.csv** file. Then use the `tidyverse` tools make a new dataframe `d1` that only inclues the subject ID (`Subject`), Flanker Task performance (`Flanker_Unadj`), and total grey matter volume (`FS_Total_GM_Vol`) variables and remove all _NA_ values.\n",
    "\n",
    "Use the `head` function to look at the first few rows of each data frame. "
   ]
  },
  {
   "cell_type": "code",
   "execution_count": 2,
   "metadata": {
    "colab": {
     "base_uri": "https://localhost:8080/",
     "height": 1000
    },
    "executionInfo": {
     "elapsed": 5637,
     "status": "ok",
     "timestamp": 1616440721755,
     "user": {
      "displayName": "Patience Stevens",
      "photoUrl": "https://lh3.googleusercontent.com/a-/AOh14Gi-_9ZqhIFhAv1oMehJNvNuIKSTyrFQHzjxQKhx=s64",
      "userId": "01994571539255174942"
     },
     "user_tz": 240
    },
    "id": "PZ0lngBjDF58",
    "outputId": "a3c4f688-d665-4d79-8250-56c4d45465e2"
   },
   "outputs": [
    {
     "name": "stderr",
     "output_type": "stream",
     "text": [
      "── \u001b[1mAttaching packages\u001b[22m ─────────────────────────────────────── tidyverse 1.3.1 ──\n",
      "\n",
      "\u001b[32m✔\u001b[39m \u001b[34mggplot2\u001b[39m 3.3.5     \u001b[32m✔\u001b[39m \u001b[34mpurrr  \u001b[39m 0.3.4\n",
      "\u001b[32m✔\u001b[39m \u001b[34mtibble \u001b[39m 3.1.2     \u001b[32m✔\u001b[39m \u001b[34mdplyr  \u001b[39m 1.0.7\n",
      "\u001b[32m✔\u001b[39m \u001b[34mtidyr  \u001b[39m 1.1.3     \u001b[32m✔\u001b[39m \u001b[34mstringr\u001b[39m 1.4.0\n",
      "\u001b[32m✔\u001b[39m \u001b[34mreadr  \u001b[39m 2.0.1     \u001b[32m✔\u001b[39m \u001b[34mforcats\u001b[39m 0.5.1\n",
      "\n",
      "── \u001b[1mConflicts\u001b[22m ────────────────────────────────────────── tidyverse_conflicts() ──\n",
      "\u001b[31m✖\u001b[39m \u001b[34mdplyr\u001b[39m::\u001b[32mfilter()\u001b[39m masks \u001b[34mstats\u001b[39m::filter()\n",
      "\u001b[31m✖\u001b[39m \u001b[34mdplyr\u001b[39m::\u001b[32mlag()\u001b[39m    masks \u001b[34mstats\u001b[39m::lag()\n",
      "\n"
     ]
    },
    {
     "data": {
      "text/html": [
       "<table class=\"dataframe\">\n",
       "<caption>A data.frame: 6 × 3</caption>\n",
       "<thead>\n",
       "\t<tr><th></th><th scope=col>Subject</th><th scope=col>Flanker_Unadj</th><th scope=col>FS_Total_GM_Vol</th></tr>\n",
       "\t<tr><th></th><th scope=col>&lt;int&gt;</th><th scope=col>&lt;dbl&gt;</th><th scope=col>&lt;int&gt;</th></tr>\n",
       "</thead>\n",
       "<tbody>\n",
       "\t<tr><th scope=row>2</th><td>100206</td><td>130.42</td><td>807245</td></tr>\n",
       "\t<tr><th scope=row>3</th><td>100307</td><td>112.56</td><td>664124</td></tr>\n",
       "\t<tr><th scope=row>4</th><td>100408</td><td>121.18</td><td>726206</td></tr>\n",
       "\t<tr><th scope=row>5</th><td>100610</td><td>126.53</td><td>762308</td></tr>\n",
       "\t<tr><th scope=row>6</th><td>101006</td><td>101.85</td><td>579632</td></tr>\n",
       "\t<tr><th scope=row>7</th><td>101107</td><td>107.04</td><td>665024</td></tr>\n",
       "</tbody>\n",
       "</table>\n"
      ],
      "text/latex": [
       "A data.frame: 6 × 3\n",
       "\\begin{tabular}{r|lll}\n",
       "  & Subject & Flanker\\_Unadj & FS\\_Total\\_GM\\_Vol\\\\\n",
       "  & <int> & <dbl> & <int>\\\\\n",
       "\\hline\n",
       "\t2 & 100206 & 130.42 & 807245\\\\\n",
       "\t3 & 100307 & 112.56 & 664124\\\\\n",
       "\t4 & 100408 & 121.18 & 726206\\\\\n",
       "\t5 & 100610 & 126.53 & 762308\\\\\n",
       "\t6 & 101006 & 101.85 & 579632\\\\\n",
       "\t7 & 101107 & 107.04 & 665024\\\\\n",
       "\\end{tabular}\n"
      ],
      "text/markdown": [
       "\n",
       "A data.frame: 6 × 3\n",
       "\n",
       "| <!--/--> | Subject &lt;int&gt; | Flanker_Unadj &lt;dbl&gt; | FS_Total_GM_Vol &lt;int&gt; |\n",
       "|---|---|---|---|\n",
       "| 2 | 100206 | 130.42 | 807245 |\n",
       "| 3 | 100307 | 112.56 | 664124 |\n",
       "| 4 | 100408 | 121.18 | 726206 |\n",
       "| 5 | 100610 | 126.53 | 762308 |\n",
       "| 6 | 101006 | 101.85 | 579632 |\n",
       "| 7 | 101107 | 107.04 | 665024 |\n",
       "\n"
      ],
      "text/plain": [
       "  Subject Flanker_Unadj FS_Total_GM_Vol\n",
       "2 100206  130.42        807245         \n",
       "3 100307  112.56        664124         \n",
       "4 100408  121.18        726206         \n",
       "5 100610  126.53        762308         \n",
       "6 101006  101.85        579632         \n",
       "7 101107  107.04        665024         "
      ]
     },
     "metadata": {},
     "output_type": "display_data"
    }
   ],
   "source": [
    "library(tidyverse)\n",
    "\n",
    "setwd(\"/Users/david/Documents/GitHub_Repos/Dickman_DSPN_S22\")\n",
    "data <- read.csv(\"unrestricted_trimmed_1_7_2020_10_50_44.csv\")\n",
    "\n",
    "d1 <- data %>% select(Subject, Flanker_Unadj, FS_Total_GM_Vol)\n",
    "\n",
    "d1 <- na.omit(d1)\n",
    "\n",
    "head(d1)\n",
    "\n"
   ]
  },
  {
   "cell_type": "markdown",
   "metadata": {
    "id": "J3owDQ0U2Ewn"
   },
   "source": [
    "b) Now we're going to see if the solutions we proved above actually line up with the model fit that R gives us (it should...). Calculate what the $\\beta_0$ and $\\beta_1$ coefficients should be for a simple linear regression model using `Flanker_Unadj` as $Y$ and `FS_Total_GM_Vol` as $X$. Use the formulas we derived above ($\\beta_1 = Cov[XY]/Var[X]$ , $\\beta_0 = E[Y] - \\beta_1E[X]$). Then use `lm()` to compare the coefficients you calculated with the ones R gives you. "
   ]
  },
  {
   "cell_type": "code",
   "execution_count": 9,
   "metadata": {
    "colab": {
     "base_uri": "https://localhost:8080/",
     "height": 391
    },
    "executionInfo": {
     "elapsed": 553,
     "status": "ok",
     "timestamp": 1614907277511,
     "user": {
      "displayName": "Patience Stevens",
      "photoUrl": "https://lh3.googleusercontent.com/a-/AOh14Gi-_9ZqhIFhAv1oMehJNvNuIKSTyrFQHzjxQKhx=s64",
      "userId": "01994571539255174942"
     },
     "user_tz": 300
    },
    "id": "mWvD8shRDF5_",
    "outputId": "02f91143-c36c-4e9d-dce1-d81f4cbd71b4"
   },
   "outputs": [
    {
     "data": {
      "text/html": [
       "3.10996547106463e-05"
      ],
      "text/latex": [
       "3.10996547106463e-05"
      ],
      "text/markdown": [
       "3.10996547106463e-05"
      ],
      "text/plain": [
       "[1] 3.109965e-05"
      ]
     },
     "metadata": {},
     "output_type": "display_data"
    },
    {
     "data": {
      "text/html": [
       "90.2564608190943"
      ],
      "text/latex": [
       "90.2564608190943"
      ],
      "text/markdown": [
       "90.2564608190943"
      ],
      "text/plain": [
       "[1] 90.25646"
      ]
     },
     "metadata": {},
     "output_type": "display_data"
    },
    {
     "data": {
      "text/plain": [
       "\n",
       "Call:\n",
       "lm(formula = Flanker_Unadj ~ FS_Total_GM_Vol, data = d1)\n",
       "\n",
       "Residuals:\n",
       "     Min       1Q   Median       3Q      Max \n",
       "-28.2280  -6.5969  -0.0119   6.5497  31.0108 \n",
       "\n",
       "Coefficients:\n",
       "                 Estimate Std. Error t value Pr(>|t|)    \n",
       "(Intercept)     9.026e+01  3.041e+00  29.677  < 2e-16 ***\n",
       "FS_Total_GM_Vol 3.110e-05  4.412e-06   7.048 3.18e-12 ***\n",
       "---\n",
       "Signif. codes:  0 ‘***’ 0.001 ‘**’ 0.01 ‘*’ 0.05 ‘.’ 0.1 ‘ ’ 1\n",
       "\n",
       "Residual standard error: 9.864 on 1111 degrees of freedom\n",
       "Multiple R-squared:  0.0428,\tAdjusted R-squared:  0.04194 \n",
       "F-statistic: 49.68 on 1 and 1111 DF,  p-value: 3.177e-12\n"
      ]
     },
     "metadata": {},
     "output_type": "display_data"
    }
   ],
   "source": [
    "# Calculating b1\n",
    "cov <- cov(d1$FS_Total_GM_Vol, d1$Flanker_Unadj) \n",
    "var <- var(d1$FS_Total_GM_Vol)\n",
    "beta1 <- cov/var\n",
    "\n",
    "#calculating b0\n",
    "beta0 <- mean(d1$Flanker_Unadj) - beta1*mean(d1$FS_Total_GM_Vol)\n",
    "\n",
    "beta1\n",
    "beta0\n",
    "\n",
    "#comparing to regression results\n",
    "regression <- lm(Flanker_Unadj ~ FS_Total_GM_Vol, data = d1)\n",
    "summary(regression)\n",
    "\n",
    "# results are similar. Cool!"
   ]
  },
  {
   "cell_type": "markdown",
   "metadata": {
    "id": "xcnXbsZvDF6B"
   },
   "source": [
    "**DUE:** 5pm EST, March 15, 2022"
   ]
  },
  {
   "cell_type": "markdown",
   "metadata": {
    "id": "aG5swCweDF6B"
   },
   "source": [
    "**IMPORTANT** Did you collaborate with anyone on this assignment? If so, list their names here. \n",
    "> Delainey Wescott & Isabella Kahhale"
   ]
  },
  {
   "cell_type": "code",
   "execution_count": null,
   "metadata": {},
   "outputs": [],
   "source": []
  }
 ],
 "metadata": {
  "colab": {
   "collapsed_sections": [],
   "name": "Homework5_solutions.ipynb",
   "provenance": []
  },
  "kernelspec": {
   "display_name": "R",
   "language": "R",
   "name": "ir"
  },
  "language_info": {
   "codemirror_mode": "r",
   "file_extension": ".r",
   "mimetype": "text/x-r-source",
   "name": "R",
   "pygments_lexer": "r",
   "version": "4.1.0"
  }
 },
 "nbformat": 4,
 "nbformat_minor": 1
}
