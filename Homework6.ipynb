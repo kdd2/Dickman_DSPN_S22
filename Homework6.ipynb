{
 "cells": [
  {
   "cell_type": "markdown",
   "metadata": {
    "id": "-2W919d2ZXp7"
   },
   "source": [
    "# Homework 6: Mixed effects"
   ]
  },
  {
   "cell_type": "markdown",
   "metadata": {
    "id": "L4nOzVhyZXqK"
   },
   "source": [
    "This homework assignment is designed to give you practice fitting and interpreting mixed effects models. \n",
    "\n",
    "We will be using the **LexicalData.csv** and **Items.csv** files from the *Homework/lexDat* folder in the class GitHub repository again. \n",
    "\n",
    "This data is a subset of the [English Lexicon Project database](https://elexicon.wustl.edu/). It provides the reaction times (in milliseconds) of many subjects as they are presented with letter strings and asked to decide, as quickly and as accurately as possible, whether the letter string is a word or not. The **Items.csv** provides characteristics of the words used, namely frequency (how common is this word?) and length (how many letters?). Unlike in the previous homework, there isn't any missing data in the **LexicalData.csv** file. \n",
    "\n",
    "*Data courtesy of Balota, D.A., Yap, M.J., Cortese, M.J., Hutchison, K.A., Kessler, B., Loftis, B., Neely, J.H., Nelson, D.L., Simpson, G.B., & Treiman, R. (2007). The English Lexicon Project. Behavior Research Methods, 39, 445-459.*"
   ]
  },
  {
   "cell_type": "markdown",
   "metadata": {
    "id": "9DsyBTB6ZXqN"
   },
   "source": [
    "---\n",
    "## 1. Loading and formatting the data (1 point)\n",
    "\n",
    "Load in data from the **LexicalData.csv** and **Items.csv** files. As in the previous homeworks, remove the commas from the reaction times and convert them from strings to numbers. Use `left_join` to add word characteristics `Length` and `Log_Freq_Hal` from **Items** to **LexicalData**. \n",
    "\n",
    "*Note: the `Freq_HAL` variable in **Items.csv** has a similar formatting issue, using string values with commas. We're not going to worry about fixing this since we're only using `Log_Freq_HAL`, which is the natural log transformation of `Freq_HAL`, in this homework.*"
   ]
  },
  {
   "cell_type": "code",
   "execution_count": 10,
   "metadata": {
    "colab": {
     "base_uri": "https://localhost:8080/",
     "height": 283
    },
    "executionInfo": {
     "elapsed": 3646,
     "status": "ok",
     "timestamp": 1615941478718,
     "user": {
      "displayName": "Patience Stevens",
      "photoUrl": "https://lh3.googleusercontent.com/a-/AOh14Gi-_9ZqhIFhAv1oMehJNvNuIKSTyrFQHzjxQKhx=s64",
      "userId": "01994571539255174942"
     },
     "user_tz": 240
    },
    "id": "UnBVazYfZXqP",
    "outputId": "ac15e53d-db29-431a-cefe-c4a81bee3024"
   },
   "outputs": [],
   "source": [
    "library(dplyr)\n",
    "\n",
    "lexical <- read.csv(\"LexicalData.csv\")\n",
    "items <- read.csv(\"Items.csv\")\n",
    "\n",
    "\n",
    "lexical$D_RT_nocomma <- gsub(\",\",\"\",lexical$D_RT)\n",
    "lexical$D_RT_nocomma <- as.numeric(lexical$D_RT_nocomma)\n",
    "\n",
    "items.small <- items %>% mutate(D_Word = Word) %>% select(D_Word, Length, Log_Freq_HAL)\n",
    " \n",
    "\n",
    "data <- left_join(items.small, lexical, by = \"D_Word\")"
   ]
  },
  {
   "cell_type": "markdown",
   "metadata": {
    "id": "bXy81Viishk1"
   },
   "source": [
    "---\n",
    "## 2. Model fitting (4 points)"
   ]
  },
  {
   "cell_type": "markdown",
   "metadata": {
    "id": "H7_gEgkbzFtU"
   },
   "source": [
    "First, fit a linear model with `Log_Freq_HAL` and `Length` as predictors, and `D_RT` as the output. Include an interaction term. Use `summary()` to look at the model output. "
   ]
  },
  {
   "cell_type": "code",
   "execution_count": 18,
   "metadata": {
    "colab": {
     "base_uri": "https://localhost:8080/",
     "height": 357
    },
    "executionInfo": {
     "elapsed": 218,
     "status": "ok",
     "timestamp": 1615950762843,
     "user": {
      "displayName": "Patience Stevens",
      "photoUrl": "https://lh3.googleusercontent.com/a-/AOh14Gi-_9ZqhIFhAv1oMehJNvNuIKSTyrFQHzjxQKhx=s64",
      "userId": "01994571539255174942"
     },
     "user_tz": 240
    },
    "id": "OIOIg-GRz4rN",
    "outputId": "34ebc9d5-f7dc-4bc0-bc4a-9ed6b8a38630"
   },
   "outputs": [
    {
     "data": {
      "text/plain": [
       "\n",
       "Call:\n",
       "lm(formula = D_RT_nocomma ~ Log_Freq_HAL + Length + Log_Freq_HAL * \n",
       "    Length, data = data)\n",
       "\n",
       "Residuals:\n",
       "     Min       1Q   Median       3Q      Max \n",
       "-1118.01  -205.23   -86.95    90.77  3147.07 \n",
       "\n",
       "Coefficients:\n",
       "                    Estimate Std. Error t value Pr(>|t|)    \n",
       "(Intercept)         610.1903    14.6678  41.601  < 2e-16 ***\n",
       "Log_Freq_HAL         -6.0239     1.9678  -3.061  0.00221 ** \n",
       "Length               47.7531     1.6368  29.175  < 2e-16 ***\n",
       "Log_Freq_HAL:Length  -2.9421     0.2348 -12.528  < 2e-16 ***\n",
       "---\n",
       "Signif. codes:  0 ‘***’ 0.001 ‘**’ 0.01 ‘*’ 0.05 ‘.’ 0.1 ‘ ’ 1\n",
       "\n",
       "Residual standard error: 359.1 on 62606 degrees of freedom\n",
       "Multiple R-squared:  0.09473,\tAdjusted R-squared:  0.09469 \n",
       "F-statistic:  2184 on 3 and 62606 DF,  p-value: < 2.2e-16\n"
      ]
     },
     "metadata": {},
     "output_type": "display_data"
    }
   ],
   "source": [
    "linear.model <- lm(D_RT_nocomma ~ Log_Freq_HAL + Length + Log_Freq_HAL*Length, data = data)\n",
    "summary(linear.model)"
   ]
  },
  {
   "cell_type": "markdown",
   "metadata": {
    "id": "Pbeg_JrS3mwU"
   },
   "source": [
    "Now, install `lme4` using `install.packages()` and then load the library. "
   ]
  },
  {
   "cell_type": "code",
   "execution_count": 14,
   "metadata": {
    "colab": {
     "base_uri": "https://localhost:8080/"
    },
    "executionInfo": {
     "elapsed": 194755,
     "status": "ok",
     "timestamp": 1615942729586,
     "user": {
      "displayName": "Patience Stevens",
      "photoUrl": "https://lh3.googleusercontent.com/a-/AOh14Gi-_9ZqhIFhAv1oMehJNvNuIKSTyrFQHzjxQKhx=s64",
      "userId": "01994571539255174942"
     },
     "user_tz": 240
    },
    "id": "hFSnvvb_re2O",
    "outputId": "c834867c-929f-4792-ed8f-753f0b17d91a"
   },
   "outputs": [],
   "source": [
    "# dont need to install because I already have it\n",
    "library(lme4)"
   ]
  },
  {
   "cell_type": "markdown",
   "metadata": {
    "id": "xZJns7xr41nW"
   },
   "source": [
    "Now fit a mixed effects model that includes the same predictors as the linear model above, as well as random intercepts for `Sub_ID` (i.e., cases where subject ID shifts the RT mean). Use `summary()` to look at the model output. "
   ]
  },
  {
   "cell_type": "code",
   "execution_count": 19,
   "metadata": {
    "colab": {
     "base_uri": "https://localhost:8080/",
     "height": 493
    },
    "executionInfo": {
     "elapsed": 899,
     "status": "ok",
     "timestamp": 1615950778119,
     "user": {
      "displayName": "Patience Stevens",
      "photoUrl": "https://lh3.googleusercontent.com/a-/AOh14Gi-_9ZqhIFhAv1oMehJNvNuIKSTyrFQHzjxQKhx=s64",
      "userId": "01994571539255174942"
     },
     "user_tz": 240
    },
    "id": "8kjwT0je57N7",
    "outputId": "6f4974ab-621d-4608-f3bf-113735ede739"
   },
   "outputs": [
    {
     "data": {
      "text/plain": [
       "Linear mixed model fit by REML ['lmerMod']\n",
       "Formula: D_RT_nocomma ~ Log_Freq_HAL + Length + Log_Freq_HAL * Length +  \n",
       "    (1 | Sub_ID)\n",
       "   Data: data\n",
       "\n",
       "REML criterion at convergence: 888235.6\n",
       "\n",
       "Scaled residuals: \n",
       "    Min      1Q  Median      3Q     Max \n",
       "-4.5058 -0.5472 -0.1568  0.3103 10.7381 \n",
       "\n",
       "Random effects:\n",
       " Groups   Name        Variance Std.Dev.\n",
       " Sub_ID   (Intercept) 46333    215.3   \n",
       " Residual             82978    288.1   \n",
       "Number of obs: 62610, groups:  Sub_ID, 299\n",
       "\n",
       "Fixed effects:\n",
       "                    Estimate Std. Error t value\n",
       "(Intercept)         616.8445    17.1522  35.963\n",
       "Log_Freq_HAL         -7.4374     1.5830  -4.698\n",
       "Length               47.7477     1.3162  36.277\n",
       "Log_Freq_HAL:Length  -2.8778     0.1888 -15.239\n",
       "\n",
       "Correlation of Fixed Effects:\n",
       "            (Intr) Lg_F_HAL Length\n",
       "Log_Frq_HAL -0.645                \n",
       "Length      -0.656  0.917         \n",
       "Lg_Fr_HAL:L  0.582 -0.942   -0.923"
      ]
     },
     "metadata": {},
     "output_type": "display_data"
    }
   ],
   "source": [
    "MLM.1 = lmer(D_RT_nocomma ~ Log_Freq_HAL + Length + Log_Freq_HAL*Length + (1 | Sub_ID), data=data) \n",
    "summary(MLM.1)\n"
   ]
  },
  {
   "cell_type": "markdown",
   "metadata": {
    "id": "Vfb_ovk7JFGt"
   },
   "source": [
    "---\n",
    "## 3. Model assessment (4 points)"
   ]
  },
  {
   "cell_type": "markdown",
   "metadata": {
    "id": "r7B1Ux6RHGjy"
   },
   "source": [
    "Compare the three t-values for the fixed effects and the mixed effects models. How do they differ, and why? "
   ]
  },
  {
   "cell_type": "markdown",
   "metadata": {
    "id": "kCi5gYOeHo6m"
   },
   "source": [
    "> *3/4 t-values in the MLM have decreased compared to those produced by the linear regression. This reflects the fact that the MLM produces a more conservative model. The MLM accounts for random variance in the intercept, which decreases the varience unaccounted for in the outcome (reaction time). * "
   ]
  },
  {
   "cell_type": "markdown",
   "metadata": {
    "id": "hukKG1AbGqXM"
   },
   "source": [
    "Use the Aikeke Information Criterion (AIC) to compare these two models. Which one is better? "
   ]
  },
  {
   "cell_type": "code",
   "execution_count": 1,
   "metadata": {
    "colab": {
     "base_uri": "https://localhost:8080/",
     "height": 159
    },
    "executionInfo": {
     "elapsed": 267,
     "status": "ok",
     "timestamp": 1615949607837,
     "user": {
      "displayName": "Patience Stevens",
      "photoUrl": "https://lh3.googleusercontent.com/a-/AOh14Gi-_9ZqhIFhAv1oMehJNvNuIKSTyrFQHzjxQKhx=s64",
      "userId": "01994571539255174942"
     },
     "user_tz": 240
    },
    "id": "KMDg8qb5FhJz",
    "outputId": "a148b06b-ec96-41e3-d13d-a439acbdf6d7"
   },
   "outputs": [
    {
     "ename": "ERROR",
     "evalue": "Error in AIC(linear.model, MLM.1): object 'linear.model' not found\n",
     "output_type": "error",
     "traceback": [
      "Error in AIC(linear.model, MLM.1): object 'linear.model' not found\nTraceback:\n",
      "1. AIC(linear.model, MLM.1)"
     ]
    }
   ],
   "source": [
    "ic = AIC(linear.model, MLM.1)\n",
    "ic\n",
    "diff(ic$AIC)"
   ]
  },
  {
   "cell_type": "markdown",
   "metadata": {
    "id": "T4oTfsYmIvYt"
   },
   "source": [
    "> *Comparing AIC values between the linear regression model fit and that of the multilevel model demonstrates a smaller AIC for the MLM. The multilevel model accounts for substantially more variance in reaction time than the simple linear model, even after accounting for increased complexity * "
   ]
  },
  {
   "cell_type": "markdown",
   "metadata": {
    "id": "ARF2PF2yLXkZ"
   },
   "source": [
    "---\n",
    "##  4. Reflection (1 point)\n",
    "\n",
    "What other random effects could be controlled for in this data set? \n",
    "\n",
    "> *There are a couple of other random effects that could be controlled for in this data set. You could account for the random slope of each predictor (length and Freq_HAL) to see if people vary in their relationships between the predictors and reaction time.* \n",
    "> "
   ]
  },
  {
   "cell_type": "markdown",
   "metadata": {
    "id": "C4MPECMmZXqe"
   },
   "source": [
    "**DUE:** 5pm EST, March 25, 2022"
   ]
  },
  {
   "cell_type": "markdown",
   "metadata": {
    "id": "r9GUofXN4BVy"
   },
   "source": [
    "**IMPORTANT** Did you collaborate with anyone on this assignment? If so, list their names here. \n",
    "> *Delainey Wescott*"
   ]
  },
  {
   "cell_type": "code",
   "execution_count": null,
   "metadata": {},
   "outputs": [],
   "source": []
  }
 ],
 "metadata": {
  "colab": {
   "collapsed_sections": [],
   "name": "Homework6_solutions.ipynb",
   "provenance": []
  },
  "kernelspec": {
   "display_name": "R",
   "language": "R",
   "name": "ir"
  },
  "language_info": {
   "codemirror_mode": "r",
   "file_extension": ".r",
   "mimetype": "text/x-r-source",
   "name": "R",
   "pygments_lexer": "r",
   "version": "4.1.0"
  }
 },
 "nbformat": 4,
 "nbformat_minor": 1
}
